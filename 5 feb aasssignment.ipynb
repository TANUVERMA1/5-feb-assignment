{
 "cells": [
  {
   "cell_type": "markdown",
   "id": "734f3765-319c-4242-b5bb-74c83ce9d77d",
   "metadata": {},
   "source": [
    "Q1. Explain Class and Object with respect to Object-Oriented Programming. Give a suitable example."
   ]
  },
  {
   "cell_type": "markdown",
   "id": "19daedf3-4819-4003-8591-6095e8cdbcb2",
   "metadata": {},
   "source": [
    "Class is a blueprint or template that defines the properties and methods of an object. It represents a general category of objects and serves as a basis for creating specific instances of that object, known as objects.\n",
    "\n",
    "Object is an instance of a class, created at runtime, which has its own state, behavior, and identity. It represents a single instance of the class and provides a way to access and manipulate the properties and methods defined in the class.\n",
    "\n",
    "For example, consider a class \"Person\" that defines the properties and methods of a person, such as name, age, and occupation. An object could be "
   ]
  },
  {
   "cell_type": "markdown",
   "id": "0d304ba0-609b-4ac3-b271-a1e2b41adbaa",
   "metadata": {},
   "source": [
    "Q2. Name the four pillars of OOPs."
   ]
  },
  {
   "cell_type": "markdown",
   "id": "92908936-9829-4419-acdb-3acddb28b363",
   "metadata": {},
   "source": [
    "The four pillars of Object-Oriented Programming (OOP) are:\n",
    "\n",
    "Abstraction: Abstraction refers to the practice of hiding the implementation details and exposing only the essential features of an object, making it easier to understand and use.\n",
    "\n",
    "Encapsulation: Encapsulation refers to the process of wrapping data and functions within an object to protect them from outside interference and misuse.\n",
    "\n",
    "Inheritance: Inheritance refers to the ability of an object to inherit properties and behaviors from a parent object, creating a hierarchy of objects that share common attributes.\n",
    "\n",
    "Polymorphism: Polymorphism refers to the ability of objects to take on multiple forms. This means that an object can be used interchangeably with object ."
   ]
  },
  {
   "cell_type": "markdown",
   "id": "7f218f6a-f073-4ace-bfcb-3b694db4de1f",
   "metadata": {},
   "source": [
    "Q3. Explain why the __init__() function is used. Give a suitable example."
   ]
  },
  {
   "cell_type": "markdown",
   "id": "093654f6-3220-4bf6-9f05-e74f9e86a817",
   "metadata": {},
   "source": [
    "The __init__() function is a special method in Python classes that is automatically executed when an object of the class is created. It is used to initialize the object's state, by setting the initial values of its attributes. The __init__() function is called the constructor, and it is the first method that is executed when an object is created.\n",
    "\n",
    "For example, consider a class \"Person\" with attributes name, age, and occupation:"
   ]
  },
  {
   "cell_type": "markdown",
   "id": "b28aaaf9-c674-423f-9d69-04bafa48c88e",
   "metadata": {},
   "source": [
    "Q4. Why self is used in OOPs?"
   ]
  },
  {
   "cell_type": "markdown",
   "id": "fb198b38-7956-4dfb-b0e4-3413fbd593a0",
   "metadata": {},
   "source": [
    "#In object-oriented programming (OOP), the self keyword is used to refer to the instance of the object that is calling a method. It is the equivalent of the this keyword in other programming languages.\n",
    "\n",
    "#The self parameter is always the first parameter in a method definition, and it is used to refer to the instance of the object that is calling the method. This allows you to access and modify the attributes and methods of the object from within the method.\n",
    "\n",
    "#For example, consider a class \"Person\" with an attribute \"name\" and a method \"greet()\":\n",
    "\n",
    "ruby\n",
    "Copy code\n",
    "class Person:\n",
    "class Person:\n",
    "    def __init__(self, name):\n",
    "        self.name = name\n",
    "        \n",
    "    def greet(self):\n",
    "        print(\"Hello, my name is\", self.name)"
   ]
  },
  {
   "cell_type": "markdown",
   "id": "7053c682-e6ea-4099-9d1b-71d3405b2687",
   "metadata": {},
   "source": [
    "Without the self parameter, it would not be possible to access the attributes and methods of the object from within the method."
   ]
  },
  {
   "cell_type": "markdown",
   "id": "b8b75356-06bf-4235-aaf8-f8384a6f55e8",
   "metadata": {},
   "source": [
    "Q5. What is inheritance? Give an example for each type of inheritance."
   ]
  },
  {
   "cell_type": "markdown",
   "id": "75f58ffa-a669-421c-accd-05d094ba63de",
   "metadata": {},
   "source": [
    "Inheritance is a mechanism in which one class acquires the property of another class. For example, a child inherits the traits of his/her parents. With inheritance, we can reuse the fields and methods of the existing class. Hence, inheritance facilitates Reusability and is an important concept of OOPs."
   ]
  },
  {
   "cell_type": "code",
   "execution_count": 2,
   "id": "85194c3e-b9bd-41e5-839e-af0f6f3045e4",
   "metadata": {},
   "outputs": [
    {
     "name": "stdout",
     "output_type": "stream",
     "text": [
      "This function is in parent class.\n",
      "This function is in child class.\n"
     ]
    }
   ],
   "source": [
    "# Python program to demonstrate\n",
    "# single inheritance\n",
    " \n",
    "# Base class\n",
    "class Parent:\n",
    "    def func1(self):\n",
    "        print(\"This function is in parent class.\")\n",
    " \n",
    "# Derived class\n",
    " \n",
    " \n",
    "class Child(Parent):\n",
    "    def func2(self):\n",
    "        print(\"This function is in child class.\")\n",
    " \n",
    " \n",
    "# Driver's code\n",
    "object = Child()\n",
    "object.func1()\n",
    "object.func2()"
   ]
  },
  {
   "cell_type": "code",
   "execution_count": null,
   "id": "7caec552-7a33-4f32-a4c8-2c3a35b4e668",
   "metadata": {},
   "outputs": [],
   "source": []
  }
 ],
 "metadata": {
  "kernelspec": {
   "display_name": "Python 3 (ipykernel)",
   "language": "python",
   "name": "python3"
  },
  "language_info": {
   "codemirror_mode": {
    "name": "ipython",
    "version": 3
   },
   "file_extension": ".py",
   "mimetype": "text/x-python",
   "name": "python",
   "nbconvert_exporter": "python",
   "pygments_lexer": "ipython3",
   "version": "3.10.8"
  }
 },
 "nbformat": 4,
 "nbformat_minor": 5
}
